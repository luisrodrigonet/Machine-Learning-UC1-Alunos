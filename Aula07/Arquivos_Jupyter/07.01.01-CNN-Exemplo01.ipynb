{
 "cells": [
  {
   "cell_type": "markdown",
   "id": "31b86d07",
   "metadata": {},
   "source": [
    "## 🧪 Exemplo Prático: Classificação de Imagens com CIFAR-10"
   ]
  },
  {
   "cell_type": "markdown",
   "id": "88c028fc",
   "metadata": {},
   "source": [
    "- Vamos construir uma CNN simples para classificar imagens do dataset **CIFAR-10**, que contém 10 categorias de objetos (aviões, carros, pássaros, etc.)."
   ]
  },
  {
   "cell_type": "markdown",
   "id": "9047562c",
   "metadata": {},
   "source": [
    "### Passo 1: Importar bibliotecas"
   ]
  },
  {
   "cell_type": "code",
   "execution_count": 3,
   "id": "e0099dd8",
   "metadata": {},
   "outputs": [],
   "source": [
    "import tensorflow as tf\n",
    "from tensorflow.keras import layers, models"
   ]
  },
  {
   "cell_type": "markdown",
   "id": "329b0b76",
   "metadata": {},
   "source": [
    "```python\n",
    "import tensorflow as tf\n",
    "```\n",
    "\n",
    "- Importa a biblioteca TensorFlow e a renomeia como tf para facilitar o uso no código.\n",
    "    - É uma das bibliotecas mais populares para aprendizado de máquina e deep learning. \n",
    "    - Ela permite criar e treinar modelos complexos, como redes neurais, com alto desempenho, inclusive aproveitando GPUs para acelerar os cálculos.\n",
    "\n",
    "```python\n",
    "from tensorflow.keras import layers, models\n",
    "```\n",
    "\n",
    "- Importa dois módulos importantes da API **Keras**, que está integrada ao TensorFlow:\n",
    "\n",
    "✅ `layers`\n",
    "Contém funções para criar **camadas de redes neurais**, como:\n",
    "- `Conv2D`: camada convolucional (para extrair características locais em imagens)\n",
    "- `MaxPooling2D`: reduz tamanho da imagem mantendo informações importantes\n",
    "- `Dense`: camada totalmente conectada (últimas camadas da rede, para classificação)\n",
    "- `Flatten`: transforma uma matriz em vetor (para conectar camadas convolucionais às densas)\n",
    "\n",
    "✅ `models`\n",
    "Permite criar modelos de rede neural, principalmente usando a classe `Sequential`, que define uma rede camada após camada, de forma sequencial.\n",
    "\n",
    "📌 **Resumo Final**\n",
    "\n",
    "| Importação | Finalidade |\n",
    "|-----------|------------|\n",
    "| `import tensorflow as tf` | Acessar toda a biblioteca TensorFlow |\n",
    "| `layers` | Criar camadas específicas de redes neurais (como convolução e pooling) |\n",
    "| `models` | Construir e organizar modelos de rede neural |\n",
    "\n",
    "Esses imports são fundamentais para definir, compilar e treinar **Redes Neurais Convolucionais (CNNs)** no TensorFlow/Keras.\n"
   ]
  },
  {
   "cell_type": "markdown",
   "id": "a254ae0e",
   "metadata": {},
   "source": [
    "### Passo 2: Carregar o dataset"
   ]
  },
  {
   "cell_type": "code",
   "execution_count": 4,
   "id": "6de2e36f",
   "metadata": {},
   "outputs": [],
   "source": [
    "(x_train, y_train), (x_test, y_test) = tf.keras.datasets.cifar10.load_data()"
   ]
  },
  {
   "cell_type": "markdown",
   "id": "058a47ca",
   "metadata": {},
   "source": [
    "- A linha de código `(x_train, y_train), (x_test, y_test) = tf.keras.datasets.cifar10.load_data()` está carregando automaticamente o conjunto de dados CIFAR-10\n",
    "- Ele é composto por 60 mil imagens coloridas de 32x32 pixels, divididas em 10 classes (como avião, carro, pássaro, etc.), \n",
    "- O comando separa os dados de treinamento (x_train, y_train) e de teste (x_test, y_test), onde x representa as imagens e y os rótulos (categorias) correspondentes. \n",
    "- Essa função facilita o acesso a um dataset pronto para treinar modelos de classificação de imagens."
   ]
  },
  {
   "cell_type": "code",
   "execution_count": 5,
   "id": "eafd8749",
   "metadata": {},
   "outputs": [],
   "source": [
    "# Normalizar os valores dos pixels entre 0 e 1\n",
    "x_train = x_train.astype('float32') / 255\n",
    "x_test = x_test.astype('float32') / 255"
   ]
  },
  {
   "cell_type": "markdown",
   "id": "1cf2b65c",
   "metadata": {},
   "source": [
    "- Essas linhas de código normalizam os valores dos pixels das imagens para que fiquem na faixa entre 0 e 1, em vez de 0 a 255 (que é o valor máximo para cada cor RGB)\n",
    "- Converte os dados para o tipo float32 antes da divisão por 255, o que ajuda a melhorar o desempenho do modelo durante o treinamento, já que redes neurais convergem mais rapidamente com entradas escaladas."
   ]
  },
  {
   "cell_type": "code",
   "execution_count": null,
   "id": "fb0c88bf",
   "metadata": {},
   "outputs": [],
   "source": [
    "# Converter rótulos para one-hot encoding\n",
    "y_train = tf.keras.utils.to_categorical(y_train, 10)\n",
    "y_test = tf.keras.utils.to_categorical(y_test, 10)"
   ]
  },
  {
   "cell_type": "markdown",
   "id": "fa38dc0c",
   "metadata": {},
   "source": [
    "- Essas linhas utilizam a função `to_categorical` do Keras para converter os rótulos das classes (números inteiros como 0, 1, 2, etc.) em vetores no formato `one-hot`\n",
    "- Cada posição do vetor representa uma classe possível — por exemplo, se o rótulo for “3”, o vetor será [0, 0, 0, 1, 0, 0, 0, 0, 0, 0]\n",
    "- Isso é necessário para que o modelo possa trabalhar com as classes de forma adequada durante o treinamento e avaliação, especialmente quando se usa funções de perda como `categorical_crossentropy`."
   ]
  },
  {
   "cell_type": "markdown",
   "id": "02caef6d",
   "metadata": {},
   "source": [
    "### Passo 3: Criar o modelo CNN"
   ]
  },
  {
   "cell_type": "code",
   "execution_count": 7,
   "id": "7cd97122",
   "metadata": {},
   "outputs": [],
   "source": [
    "model = models.Sequential()"
   ]
  },
  {
   "cell_type": "markdown",
   "id": "74c854c9",
   "metadata": {},
   "source": [
    "- A linha `model = models.Sequential()` cria um modelo de rede neural vazio do tipo Sequencial, onde as camadas serão adicionadas uma após a outra em sequência \n",
    "- Essa é a forma mais comum e intuitiva de construir redes neurais no Keras, sendo ideal para arquiteturas como as Redes Neurais Convolucionais (CNNs), \n",
    "- Onde cada camada processa a saída da anterior de maneira ordenada."
   ]
  },
  {
   "cell_type": "code",
   "execution_count": 8,
   "id": "61ea1d92",
   "metadata": {},
   "outputs": [
    {
     "name": "stderr",
     "output_type": "stream",
     "text": [
      "d:\\_python\\mlEnv\\Lib\\site-packages\\keras\\src\\layers\\convolutional\\base_conv.py:113: UserWarning: Do not pass an `input_shape`/`input_dim` argument to a layer. When using Sequential models, prefer using an `Input(shape)` object as the first layer in the model instead.\n",
      "  super().__init__(activity_regularizer=activity_regularizer, **kwargs)\n"
     ]
    }
   ],
   "source": [
    "# Primeira camada convolucional + pooling\n",
    "model.add(layers.Conv2D(32, (3, 3), activation='relu', input_shape=(32, 32, 3)))\n",
    "model.add(layers.MaxPooling2D((2, 2)))"
   ]
  },
  {
   "cell_type": "markdown",
   "id": "9eb3764d",
   "metadata": {},
   "source": [
    "- Adiciona ao modelo sequencial duas camadas fundamentais de uma **Rede Neural Convolucional (CNN)**:\n",
    "    - a primeira é uma camada convolucional (**Conv2D**) com 32 filtros de tamanho 3x3 e função de ativação ReLU, que **extrai características** visuais da imagem de entrada com dimensão (32, 32, 3); \n",
    "    - a segunda é uma camada de pooling (**MaxPooling2D**) com janela de 2x2, que **reduz a dimensionalidade** espacial das características extraídas, mantendo as informações mais relevantes e ajudando a tornar o modelo mais eficiente e robusto."
   ]
  },
  {
   "cell_type": "code",
   "execution_count": 6,
   "id": "2cd0767a",
   "metadata": {},
   "outputs": [],
   "source": [
    "# Segunda camada convolucional + pooling\n",
    "model.add(layers.Conv2D(64, (3, 3), activation='relu'))\n",
    "model.add(layers.MaxPooling2D((2, 2)))\n"
   ]
  },
  {
   "cell_type": "markdown",
   "id": "32f6cff3",
   "metadata": {},
   "source": [
    "- Adiciona ao modelo uma nova **camada convolucional** com 64 filtros de tamanho 3x3 e ativação ReLU\n",
    "    - responsável por extrair características mais complexas a partir da saída da camada anterior\n",
    "- Seguida por outra **camada de pooling** com janela 2x2, que reduz ainda mais a dimensão espacial das características extraídas\n",
    "    - ajudando a diminuir o número de parâmetros e a evitar overfitting."
   ]
  },
  {
   "cell_type": "code",
   "execution_count": 7,
   "id": "e37e5f6d",
   "metadata": {},
   "outputs": [],
   "source": [
    "# Terceira camada convolucional\n",
    "model.add(layers.Conv2D(64, (3, 3), activation='relu'))"
   ]
  },
  {
   "cell_type": "markdown",
   "id": "5b10ea4b",
   "metadata": {},
   "source": [
    "- Adiciona ao modelo uma camada convolucional (Conv2D) com 64 filtros de tamanho 3x3 e função de ativação ReLU\n",
    "- O papel é extrair características visuais mais complexas a partir das camadas anteriores\n",
    "- Permitindo que a rede aprenda padrões espaciais relevantes nas imagens para melhorar o desempenho na tarefa de classificação."
   ]
  },
  {
   "cell_type": "code",
   "execution_count": 8,
   "id": "e97b9442",
   "metadata": {},
   "outputs": [],
   "source": [
    "# Achatar para passar para camadas densas\n",
    "model.add(layers.Flatten())"
   ]
  },
  {
   "cell_type": "markdown",
   "id": "d101d0bc",
   "metadata": {},
   "source": [
    "- Adiciona ao modelo uma camada convolucional com 64 filtros de tamanho 3x3 e função de ativação ReLU\n",
    "- Sua finalidade é extrair características visuais mais complexas a partir das camadas anteriores\n",
    "- Contribui para a formação de um modelo capaz de reconhecer padrões cada vez mais abstratos nas imagens."
   ]
  },
  {
   "cell_type": "code",
   "execution_count": 9,
   "id": "9b38a376",
   "metadata": {},
   "outputs": [],
   "source": [
    "# Camadas densas finais\n",
    "model.add(layers.Dense(64, activation='relu'))\n",
    "model.add(layers.Dense(10, activation='softmax'))  # 10 classes"
   ]
  },
  {
   "cell_type": "markdown",
   "id": "992bb404",
   "metadata": {},
   "source": [
    "- Adicionam ao modelo as camadas densas (totalmente conectadas): \n",
    "    - A primeira possui **64 neurônios** com ``ativação ReLU`` e é responsável por **combinar as características** extraídas nas camadas anteriores para formar representações mais abstratas;\n",
    "    - A segunda é a **camada de saída** , com 10 neurônios (um para cada classe) e função de `ativação softmax`, que retorna uma **probabilidade para cada classe**, indicando qual é a mais provável de acordo com o que a rede aprendeu."
   ]
  },
  {
   "cell_type": "markdown",
   "id": "12b63c54",
   "metadata": {},
   "source": [
    "### Passo 4: Compilar o modelo"
   ]
  },
  {
   "cell_type": "code",
   "execution_count": 10,
   "id": "736e69a8",
   "metadata": {},
   "outputs": [],
   "source": [
    "model.compile(optimizer='adam',\n",
    "              loss='categorical_crossentropy',\n",
    "              metrics=['accuracy'])"
   ]
  },
  {
   "cell_type": "markdown",
   "id": "214ae0c0",
   "metadata": {},
   "source": [
    "- Configura o modelo para o treinamento, definindo o otimizador '`adam`', que é responsável por ajustar os pesos da rede para minimizar o erro; \n",
    "- A função de perda '`categorical_crossentropy`', que mede quão longe estão as previsões do modelo em relação aos rótulos reais (usada quando os rótulos estão no formato one-hot );\n",
    "- A métrica '`accuracy`' , que será usada para avaliar o desempenho do modelo durante o treinamento e a validação."
   ]
  },
  {
   "cell_type": "markdown",
   "id": "c289a7e7",
   "metadata": {},
   "source": [
    "### Passo 5: Treinar o modelo"
   ]
  },
  {
   "cell_type": "code",
   "execution_count": 11,
   "id": "7410b26f",
   "metadata": {},
   "outputs": [
    {
     "name": "stdout",
     "output_type": "stream",
     "text": [
      "Epoch 1/5\n",
      "\u001b[1m625/625\u001b[0m \u001b[32m━━━━━━━━━━━━━━━━━━━━\u001b[0m\u001b[37m\u001b[0m \u001b[1m11s\u001b[0m 9ms/step - accuracy: 0.2987 - loss: 1.8759 - val_accuracy: 0.5029 - val_loss: 1.3605\n",
      "Epoch 2/5\n",
      "\u001b[1m625/625\u001b[0m \u001b[32m━━━━━━━━━━━━━━━━━━━━\u001b[0m\u001b[37m\u001b[0m \u001b[1m6s\u001b[0m 9ms/step - accuracy: 0.5317 - loss: 1.2997 - val_accuracy: 0.5783 - val_loss: 1.1986\n",
      "Epoch 3/5\n",
      "\u001b[1m625/625\u001b[0m \u001b[32m━━━━━━━━━━━━━━━━━━━━\u001b[0m\u001b[37m\u001b[0m \u001b[1m6s\u001b[0m 9ms/step - accuracy: 0.5982 - loss: 1.1329 - val_accuracy: 0.6170 - val_loss: 1.0843\n",
      "Epoch 4/5\n",
      "\u001b[1m625/625\u001b[0m \u001b[32m━━━━━━━━━━━━━━━━━━━━\u001b[0m\u001b[37m\u001b[0m \u001b[1m6s\u001b[0m 9ms/step - accuracy: 0.6398 - loss: 1.0343 - val_accuracy: 0.6377 - val_loss: 1.0333\n",
      "Epoch 5/5\n",
      "\u001b[1m625/625\u001b[0m \u001b[32m━━━━━━━━━━━━━━━━━━━━\u001b[0m\u001b[37m\u001b[0m \u001b[1m6s\u001b[0m 9ms/step - accuracy: 0.6732 - loss: 0.9479 - val_accuracy: 0.6687 - val_loss: 0.9538\n"
     ]
    }
   ],
   "source": [
    "history = model.fit(x_train, y_train, epochs=5, batch_size=64, validation_split=0.2)"
   ]
  },
  {
   "cell_type": "markdown",
   "id": "cdf58194",
   "metadata": {},
   "source": [
    "- Inicia o treinamento do modelo usando o método fit, passando os dados de treinamento (`x_train e y_train`)\n",
    "- Define que o modelo será treinado por 5 épocas (ciclos completos percorrendo todo o conjunto de treino)\n",
    "    - com 64 amostras por lote (`batch_size`) para cada atualização dos pesos\n",
    "    - e reservando 20% dos dados para validação (`validation_split=0.2`) a fim de monitorar o desempenho do modelo em dados não vistos durante o treinamento e ajudar a detectar `overfitting`."
   ]
  },
  {
   "cell_type": "markdown",
   "id": "4f904628",
   "metadata": {},
   "source": [
    "### Passo 6: Avaliar o modelo"
   ]
  },
  {
   "cell_type": "code",
   "execution_count": 12,
   "id": "d36b30da",
   "metadata": {},
   "outputs": [
    {
     "name": "stdout",
     "output_type": "stream",
     "text": [
      "313/313 - 1s - 2ms/step - accuracy: 0.6651 - loss: 0.9485\n",
      "Acurácia no teste: 0.67\n"
     ]
    }
   ],
   "source": [
    "test_loss, test_acc = model.evaluate(x_test, y_test, verbose=2)\n",
    "print(f'Acurácia no teste: {test_acc:.2f}')"
   ]
  },
  {
   "cell_type": "markdown",
   "id": "cf410cdf",
   "metadata": {},
   "source": [
    "- Avaliam o desempenho do modelo treinado no conjunto de dados de teste usando o método evaluate, passando as imagens (`x_test`) e seus rótulos (`y_test`)\n",
    "- Com **verbose=2** definindo o nível de detalhe na saída \n",
    "- O resultado é armazenado nas variáveis `test_loss` (perda) e `test_acc` (acurácia), sendo a última exibida na tela com duas casas decimais."
   ]
  }
 ],
 "metadata": {
  "kernelspec": {
   "display_name": "Machine Learning (venv)",
   "language": "python",
   "name": "ml_env_kernel"
  },
  "language_info": {
   "codemirror_mode": {
    "name": "ipython",
    "version": 3
   },
   "file_extension": ".py",
   "mimetype": "text/x-python",
   "name": "python",
   "nbconvert_exporter": "python",
   "pygments_lexer": "ipython3",
   "version": "3.12.8"
  }
 },
 "nbformat": 4,
 "nbformat_minor": 5
}
