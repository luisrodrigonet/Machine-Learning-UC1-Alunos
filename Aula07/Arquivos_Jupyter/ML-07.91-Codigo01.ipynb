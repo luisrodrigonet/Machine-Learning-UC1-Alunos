{
 "cells": [
  {
   "cell_type": "markdown",
   "id": "18cab4c5",
   "metadata": {},
   "source": [
    "# Fundamentos de Redes Neurais"
   ]
  },
  {
   "cell_type": "markdown",
   "id": "51e3aa74",
   "metadata": {},
   "source": [
    "## Objetivo da Aula\n",
    "Nesta aula, vamos explorar os **fundamentos de redes neurais**, com foco no funcionamento de um **único neurônio artificial**. Vamos explicar passo a passo o código fornecido, entendendo cada linha e conceito envolvido."
   ]
  },
  {
   "cell_type": "markdown",
   "id": "8629b379",
   "metadata": {},
   "source": [
    "## Introdução às Redes Neurais\n",
    "\n",
    "As **redes neurais artificiais** são modelos computacionais inspirados no cérebro humano. Elas são compostas por unidades chamadas **neurônios artificiais**, que recebem entradas, processam informações e produzem uma saída. Um neurônio pode ser descrito como:\n",
    "\n",
    "1. Receber um conjunto de valores de entrada.\n",
    "2. Multiplicar cada entrada pelo seu respectivo peso (importância).\n",
    "3. Somar esses produtos e adicionar um valor constante chamado *bias* (ou viés).\n",
    "4. Aplicar uma **função de ativação** para determinar a saída final do neurônio.\n",
    "\n",
    "Vamos analisar isso detalhadamente com o código abaixo."
   ]
  },
  {
   "cell_type": "markdown",
   "id": "20f450f7",
   "metadata": {},
   "source": [
    "## Código Explicado Passo a Passo"
   ]
  },
  {
   "cell_type": "markdown",
   "id": "08b7d0c9",
   "metadata": {},
   "source": [
    "### 1. Importando Bibliotecas"
   ]
  },
  {
   "cell_type": "code",
   "execution_count": 1,
   "id": "ba91e810",
   "metadata": {},
   "outputs": [],
   "source": [
    "import numpy as np"
   ]
  },
  {
   "cell_type": "markdown",
   "id": "29526f11",
   "metadata": {},
   "source": [
    "- **`numpy`** é uma biblioteca usada para operações matemáticas em arrays multidimensionais.\n",
    "- Aqui, ela será usada para calcular o produto escalar entre as entradas e os pesos."
   ]
  },
  {
   "cell_type": "markdown",
   "id": "4f33f9e1",
   "metadata": {},
   "source": [
    "### 2. Definindo a Função do Neurônio"
   ]
  },
  {
   "cell_type": "code",
   "execution_count": 2,
   "id": "ea72f2ee",
   "metadata": {},
   "outputs": [],
   "source": [
    "def neuron_output(inputs, weights, bias, activation='relu'):\n",
    "    \"\"\"\n",
    "    Simula um único neurônio:\n",
    "      - inputs: array np (features de entrada)\n",
    "      - weights: array np (pesos)\n",
    "      - bias: valor escalar\n",
    "      - activation: 'relu' ou 'sigmoid' (demonstrativo)\n",
    "    \"\"\"\n",
    "    # Soma ponderada\n",
    "    z = np.dot(inputs, weights) + bias\n",
    "    \n",
    "    # Aplica função de ativação\n",
    "    if activation == 'relu':\n",
    "        return max(0, z)\n",
    "    elif activation == 'sigmoid':\n",
    "        return 1.0 / (1.0 + np.exp(-z))\n",
    "    else:\n",
    "        # Se não reconhece a ativação, retorna z sem ativação\n",
    "        return z"
   ]
  },
  {
   "cell_type": "markdown",
   "id": "b9c7cc3d",
   "metadata": {},
   "source": [
    "```python\n",
    "def neuron_output(inputs, weights, bias, activation='relu'):\n",
    "```\n",
    "\n",
    "- Esta função simula o comportamento de **um único neurônio artificial**.\n",
    "- Parâmetros:\n",
    "  - `inputs`: vetor de números reais representando os dados de entrada.\n",
    "  - `weights`: vetor com os pesos associados às entradas.\n",
    "  - `bias`: valor escalar que ajusta a saída do neurônio.\n",
    "  - `activation`: tipo de função de ativação utilizada (`'relu'` ou `'sigmoid'`).\n",
    "\n",
    "\n",
    "**Cálculo da Soma Ponderada**\n",
    "\n",
    "```python\n",
    "z = np.dot(inputs, weights) + bias\n",
    "```\n",
    "\n",
    "- **`np.dot(inputs, weights)`**: calcula o **produto escalar** entre os vetores `inputs` e `weights`.\n",
    "    - Isso equivale a somar o produto de cada entrada com seu peso correspondente:  \n",
    "      $ z = x_1w_1 + x_2w_2 + \\cdots + x_nw_n $\n",
    "- Depois, adicionamos o **viés (`bias`)** à soma.\n",
    "- O resultado é uma única saída numérica chamada `z`.\n",
    "\n",
    "**ReLU (Rectified Linear Unit)**\n",
    "\n",
    "```python\n",
    "if activation == 'relu':\n",
    "    return max(0, z)\n",
    "```\n",
    "\n",
    "- A função **ReLU** retorna zero se a entrada for negativa, e a própria entrada se for positiva.\n",
    "- Matematicamente:  \n",
    "  $$\n",
    "  f(z) = \\max(0, z)\n",
    "  $$\n",
    "- É muito usada em redes neurais modernas por sua simplicidade e eficiência na propagação de gradientes.\n",
    "\n",
    "**Sigmoid**\n",
    "\n",
    "```python\n",
    "elif activation == 'sigmoid':\n",
    "    return 1.0 / (1.0 + np.exp(-z))\n",
    "```\n",
    "\n",
    "- A função **Sigmoid** transforma qualquer número real em um valor entre 0 e 1.\n",
    "- Útil para problemas de classificação binária ou para representar probabilidades.\n",
    "- Fórmula:  \n",
    "  $$\n",
    "  f(z) = \\frac{1}{1 + e^{-z}}\n",
    "  $$\n",
    "\n",
    "\n",
    "**Sem Ativação**\n",
    "\n",
    "```python\n",
    "else:\n",
    "    return z\n",
    "```\n",
    "\n",
    "- Se nenhuma das funções acima for especificada, a função retorna apenas o valor de `z`, ou seja, sem aplicar função de ativação."
   ]
  },
  {
   "cell_type": "markdown",
   "id": "0910f68d",
   "metadata": {},
   "source": [
    "## Exemplo de Uso do Código"
   ]
  },
  {
   "cell_type": "code",
   "execution_count": 3,
   "id": "a8f40204",
   "metadata": {},
   "outputs": [],
   "source": [
    "inputs = np.array([0.5, -0.2, 1.0])   # 3 entradas\n",
    "weights = np.array([0.8, -0.5, 0.1]) # 3 pesos correspondentes\n",
    "bias = 0.2"
   ]
  },
  {
   "cell_type": "markdown",
   "id": "8221ccb3",
   "metadata": {},
   "source": [
    "- Temos 3 entradas: `[0.5, -0.2, 1.0]`\n",
    "- Três pesos: `[0.8, -0.5, 0.1]`\n",
    "- Um valor de *bias*: `0.2`"
   ]
  },
  {
   "cell_type": "markdown",
   "id": "1e642f20",
   "metadata": {},
   "source": [
    "### Chamando a Função"
   ]
  },
  {
   "cell_type": "code",
   "execution_count": 4,
   "id": "e1736f2b",
   "metadata": {},
   "outputs": [],
   "source": [
    "out_relu = neuron_output(inputs, weights, bias, 'relu')\n",
    "out_sigmoid = neuron_output(inputs, weights, bias, 'sigmoid')"
   ]
  },
  {
   "cell_type": "markdown",
   "id": "bc741375",
   "metadata": {},
   "source": [
    "- Calculamos a saída do neurônio com ambas as funções de ativação."
   ]
  },
  {
   "cell_type": "markdown",
   "id": "ec84fec5",
   "metadata": {},
   "source": [
    "### Saída do Programa"
   ]
  },
  {
   "cell_type": "code",
   "execution_count": 5,
   "id": "449dec61",
   "metadata": {},
   "outputs": [
    {
     "name": "stdout",
     "output_type": "stream",
     "text": [
      "=== Momento 2: Fundamentos de Redes Neurais ===\n",
      "Inputs : [ 0.5 -0.2  1. ]\n",
      "Weights: [ 0.8 -0.5  0.1]\n",
      "Bias   : 0.2\n",
      "Saída (ReLU)   : 0.8\n",
      "Saída (Sigmoid): 0.6899744811276125\n"
     ]
    }
   ],
   "source": [
    "print(\"=== Momento 2: Fundamentos de Redes Neurais ===\")\n",
    "print(\"Inputs :\", inputs)\n",
    "print(\"Weights:\", weights)\n",
    "print(\"Bias   :\", bias)\n",
    "print(\"Saída (ReLU)   :\", out_relu)\n",
    "print(\"Saída (Sigmoid):\", out_sigmoid)"
   ]
  },
  {
   "cell_type": "markdown",
   "id": "a95445d4",
   "metadata": {},
   "source": [
    "## Entendendo os Resultados"
   ]
  },
  {
   "cell_type": "markdown",
   "id": "cfaa307d",
   "metadata": {},
   "source": [
    "### Cálculo da Soma Ponderada:\n",
    "\n",
    "$$\n",
    "z = (0.5 \\cdot 0.8) + (-0.2 \\cdot -0.5) + (1.0 \\cdot 0.1) + 0.2 = \\\\\n",
    "= 0.4 + 0.1 + 0.1 + 0.2 = 0.8\n",
    "$$\n",
    "\n",
    "### Aplicando as Funções:\n",
    "\n",
    "- **ReLU**: `max(0, 0.8) = 0.8`\n",
    "- **Sigmoid**: $ \\frac{1}{1 + e^{-0.8}} \\approx 0.69 $\n",
    "\n",
    "(Os valores podem variar levemente dependendo do arredondamento.)"
   ]
  },
  {
   "cell_type": "markdown",
   "id": "b43ddfdb",
   "metadata": {},
   "source": [
    "## Resumo dos Conceitos Abordados"
   ]
  },
  {
   "cell_type": "markdown",
   "id": "ca76af9d",
   "metadata": {},
   "source": [
    "| Conceito | Descrição |\n",
    "|---------|-----------|\n",
    "| **Neurônio Artificial** | Unidade básica de uma rede neural, que recebe entradas, multiplica por pesos e gera uma saída. |\n",
    "| **Pesos** | Valores ajustáveis que definem a importância de cada entrada. |\n",
    "| **Bias** | Termo constante que desloca a saída do neurônio. |\n",
    "| **Produto Escalar** | Operação que combina entradas e pesos. |\n",
    "| **Função de Ativação** | Determina a forma como o neurônio \"responde\" à entrada. |\n",
    "| **ReLU** | Função simples e popular: retorna zero para valores negativos. |\n",
    "| **Sigmoid** | Mapeia qualquer valor para um intervalo entre 0 e 1. Útil em classificações. |"
   ]
  },
  {
   "cell_type": "markdown",
   "id": "5801f167",
   "metadata": {},
   "source": [
    "## Conclusão"
   ]
  },
  {
   "cell_type": "markdown",
   "id": "1280d2e7",
   "metadata": {},
   "source": [
    "- Com este exemplo prático, vimos como funciona um **único neurônio artificial**. \n",
    "- Este é o bloco fundamental de qualquer rede neural profunda. \n",
    "- Em aulas futuras, vamos conectar múltiplos neurônios em camadas e construir redes neurais completas capazes de resolver problemas complexos."
   ]
  },
  {
   "cell_type": "markdown",
   "id": "0e74e32d",
   "metadata": {},
   "source": [
    "## Atividades Propostas"
   ]
  },
  {
   "cell_type": "markdown",
   "id": "8508da0e",
   "metadata": {},
   "source": [
    "\n",
    "1. Modifique os valores de `inputs`, `weights` e `bias` e veja como as saídas mudam.\n",
    "1. Calcule manualmente o valor de `z` e compare com o valor retornado pela função.\n",
    "\n"
   ]
  }
 ],
 "metadata": {
  "kernelspec": {
   "display_name": "Machine Learning (venv)",
   "language": "python",
   "name": "ml_env_kernel"
  },
  "language_info": {
   "codemirror_mode": {
    "name": "ipython",
    "version": 3
   },
   "file_extension": ".py",
   "mimetype": "text/x-python",
   "name": "python",
   "nbconvert_exporter": "python",
   "pygments_lexer": "ipython3",
   "version": "3.12.8"
  }
 },
 "nbformat": 4,
 "nbformat_minor": 5
}
