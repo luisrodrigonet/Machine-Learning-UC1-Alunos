{
 "cells": [
  {
   "cell_type": "markdown",
   "id": "703212e8",
   "metadata": {},
   "source": [
    "## 💬 RNN - Aplicações Práticas - LPN"
   ]
  },
  {
   "cell_type": "markdown",
   "id": "43f647b6",
   "metadata": {},
   "source": [
    "### 2. **Previsão de Séries Temporais**"
   ]
  },
  {
   "cell_type": "markdown",
   "id": "24a3987e",
   "metadata": {},
   "source": [
    "- Exemplo: prever preço de ações ou temperatura futura com base em dados históricos."
   ]
  },
  {
   "cell_type": "markdown",
   "id": "5e0f71fa",
   "metadata": {},
   "source": [
    "#### Exemplo Simples: Previsão de Temperatura"
   ]
  },
  {
   "cell_type": "raw",
   "id": "1b59689f",
   "metadata": {
    "vscode": {
     "languageId": "raw"
    }
   },
   "source": [
    "\n",
    "from keras.models import Sequential\n",
    "from keras.layers import SimpleRNN, Dense\n",
    "import numpy as np\n",
    "\n",
    "# Dados simulados: sequência de temperaturas\n",
    "temperaturas = np.array([20, 21, 22, 21, 23, 24, 25, 24, 25, 26])\n",
    "X = temperaturas[:-1].reshape(1, -1, 1)  # [batch_size, timesteps, features]\n",
    "y = temperaturas[1:]\n",
    "\n",
    "model = Sequential()\n",
    "model.add(SimpleRNN(units=10, input_shape=(None, 1)))\n",
    "model.add(Dense(1))\n",
    "\n",
    "model.compile(optimizer='adam', loss='mse')\n",
    "model.fit(X, y, epochs=100, verbose=0)\n",
    "\n",
    "# Fazer previsão\n",
    "pred = model.predict(X)\n",
    "print(\"Temperatura prevista:\", pred.flatten())"
   ]
  },
  {
   "cell_type": "markdown",
   "id": "459e3d0a",
   "metadata": {},
   "source": [
    "> Aqui, usamos uma RNN para prever a próxima temperatura com base na sequência anterior."
   ]
  }
 ],
 "metadata": {
  "kernelspec": {
   "display_name": "Machine Learning (venv)",
   "language": "python",
   "name": "ml_env_kernel"
  },
  "language_info": {
   "codemirror_mode": {
    "name": "ipython",
    "version": 3
   },
   "file_extension": ".py",
   "mimetype": "text/x-python",
   "name": "python",
   "nbconvert_exporter": "python",
   "pygments_lexer": "ipython3",
   "version": "3.12.8"
  }
 },
 "nbformat": 4,
 "nbformat_minor": 5
}
