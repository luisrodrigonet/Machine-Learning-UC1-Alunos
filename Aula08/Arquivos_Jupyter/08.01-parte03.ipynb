{
 "cells": [
  {
   "cell_type": "markdown",
   "id": "ca41bded",
   "metadata": {},
   "source": [
    "## 🧪 1. Métricas para **Classificação**"
   ]
  },
  {
   "cell_type": "markdown",
   "id": "32e9451c",
   "metadata": {},
   "source": [
    "- Vamos explorar **exemplos práticos do uso das métricas de avaliação** mais comuns em machine learning, organizadas por tipo de problema. \n",
    "- Será mostrado como utilizá-las no Python com a biblioteca `scikit-learn`, sempre associando cada métrica a uma técnica de validação.\n",
    "- Vamos usar o dataset **Iris** e um modelo de classificação (`RandomForestClassifier`)."
   ]
  },
  {
   "cell_type": "markdown",
   "id": "4d1688eb",
   "metadata": {},
   "source": [
    "### ✅ Exemplo: Acurácia, F1 Score, Precision, Recall, ROC-AUC"
   ]
  },
  {
   "cell_type": "markdown",
   "id": "8e4587ce",
   "metadata": {},
   "source": [
    "| Métrica     | O que mede?                             | Ideal para...                          |\n",
    "|-------------|------------------------------------------|----------------------------------------|\n",
    "| Acurácia    | % de previsões corretas                  | Dados balanceados                      |\n",
    "| Precision   | Acertos entre os que previu como positivo| Evitar falsos positivos                |\n",
    "| Recall      | Acertos entre os que eram realmente positivo | Evitar falsos negativos              |\n",
    "| F1 Score    | Equilíbrio entre precision e recall      | Dados desbalanceados                   |\n",
    "| ROC-AUC     | Capacidade de separar classes            | Comparar modelos probabilísticos       |"
   ]
  },
  {
   "cell_type": "code",
   "execution_count": 1,
   "id": "6c145983",
   "metadata": {},
   "outputs": [
    {
     "name": "stdout",
     "output_type": "stream",
     "text": [
      "Acurácia: 1.0\n",
      "Precision: 1.0\n",
      "Recall: 1.0\n",
      "F1 Score: 1.0\n",
      "ROC AUC: 1.0\n"
     ]
    }
   ],
   "source": [
    "from sklearn.datasets import load_iris\n",
    "from sklearn.model_selection import train_test_split\n",
    "from sklearn.ensemble import RandomForestClassifier\n",
    "from sklearn.metrics import accuracy_score, precision_score, recall_score, f1_score, roc_auc_score\n",
    "import numpy as np\n",
    "\n",
    "# Carregar dados\n",
    "iris = load_iris()\n",
    "X, y = iris.data, iris.target\n",
    "\n",
    "# Binarizando para simplificar (apenas duas classes)\n",
    "X = X[y != 2]\n",
    "y = y[y != 2]\n",
    "\n",
    "# Dividir em treino e teste\n",
    "X_train, X_test, y_train, y_test = train_test_split(X, y, test_size=0.3, random_state=42)\n",
    "\n",
    "# Treinar modelo\n",
    "model = RandomForestClassifier(random_state=42)\n",
    "model.fit(X_train, y_train)\n",
    "\n",
    "# Prever rótulos e probabilidades\n",
    "y_pred = model.predict(X_test)\n",
    "y_proba = model.predict_proba(X_test)[:, 1]  # Probabilidade da classe positiva\n",
    "\n",
    "# Calcular métricas\n",
    "print(\"Acurácia:\", accuracy_score(y_test, y_pred))\n",
    "print(\"Precision:\", precision_score(y_test, y_pred))\n",
    "print(\"Recall:\", recall_score(y_test, y_pred))\n",
    "print(\"F1 Score:\", f1_score(y_test, y_pred))\n",
    "print(\"ROC AUC:\", roc_auc_score(y_test, y_proba))"
   ]
  },
  {
   "cell_type": "markdown",
   "id": "8a1bf406",
   "metadata": {},
   "source": []
  },
  {
   "cell_type": "markdown",
   "id": "d6465710",
   "metadata": {},
   "source": [
    "> 💡 **Observações:**\n",
    "> - `roc_auc_score` requer **probabilidades**, não apenas previsões.\n",
    "> - Use `predict_proba()` para isso.\n",
    "> - As métricas podem ser ajustadas com o parâmetro `average` se for multi-classe.\n"
   ]
  },
  {
   "cell_type": "markdown",
   "id": "23c4038c",
   "metadata": {},
   "source": [
    "## 📈 2. Métricas para **Regressão**"
   ]
  },
  {
   "cell_type": "markdown",
   "id": "e2b04ae6",
   "metadata": {},
   "source": [
    "Vamos usar os dados simulados do seno e um modelo de regressão (`RandomForestRegressor`)."
   ]
  },
  {
   "cell_type": "markdown",
   "id": "c8e767b7",
   "metadata": {},
   "source": [
    "### ✅ Exemplo: MAE, MSE, RMSE, R²"
   ]
  },
  {
   "cell_type": "markdown",
   "id": "0c0a297b",
   "metadata": {},
   "source": [
    "| Métrica | O que mede?                          | Interpretação                        |\n",
    "|--------|--------------------------------------|---------------------------------------|\n",
    "| MAE    | Erro médio absoluto                  | Fácil de entender                    |\n",
    "| MSE    | Erro médio quadrático                | Penaliza erros maiores               |\n",
    "| RMSE   | Raiz do MSE                          | Mesma unidade do alvo                |\n",
    "| R²     | Proporção da variância explicada     | Quanto mais próximo de 1, melhor     |"
   ]
  },
  {
   "cell_type": "code",
   "execution_count": 2,
   "id": "0427511b",
   "metadata": {},
   "outputs": [
    {
     "name": "stdout",
     "output_type": "stream",
     "text": [
      "MAE: 0.08480777818911074\n",
      "MSE: 0.012414474472505942\n",
      "RMSE: 0.11142026060149897\n",
      "R² Score: 0.7879978858876039\n"
     ]
    }
   ],
   "source": [
    "import numpy as np\n",
    "from sklearn.model_selection import train_test_split\n",
    "from sklearn.ensemble import RandomForestRegressor\n",
    "from sklearn.metrics import mean_absolute_error, mean_squared_error, r2_score\n",
    "\n",
    "# Dados simulados\n",
    "X = np.sort(np.random.rand(100, 1), axis=0)\n",
    "y = np.sin(X).ravel() + np.random.normal(0, 0.1, 100)\n",
    "\n",
    "# Divisão treino-teste\n",
    "X_train, X_test, y_train, y_test = train_test_split(X, y, test_size=0.3, random_state=42)\n",
    "\n",
    "# Modelo de regressão\n",
    "model = RandomForestRegressor(random_state=42)\n",
    "model.fit(X_train, y_train)\n",
    "\n",
    "# Previsão\n",
    "y_pred = model.predict(X_test)\n",
    "\n",
    "# Avaliação\n",
    "print(\"MAE:\", mean_absolute_error(y_test, y_pred))\n",
    "print(\"MSE:\", mean_squared_error(y_test, y_pred))\n",
    "print(\"RMSE:\", np.sqrt(mean_squared_error(y_test, y_pred)))\n",
    "print(\"R² Score:\", r2_score(y_test, y_pred))"
   ]
  },
  {
   "cell_type": "markdown",
   "id": "2c4c7f13",
   "metadata": {},
   "source": [
    "> 💡 **Dicas:**\n",
    "> - O **MAE** é fácil de interpretar (erro médio absoluto).\n",
    "> - O **RMSE** penaliza mais erros maiores.\n",
    "> - O **R²** varia de 0 a 1, onde 1 significa perfeito ajuste."
   ]
  },
  {
   "cell_type": "markdown",
   "id": "60f07c0a",
   "metadata": {},
   "source": [
    "## 🔍 3. Métricas para **Clusterização**"
   ]
  },
  {
   "cell_type": "markdown",
   "id": "fb26c4cb",
   "metadata": {},
   "source": [
    "Vamos usar o dataset **make_blobs** e o algoritmo **KMeans**."
   ]
  },
  {
   "cell_type": "markdown",
   "id": "ce7b1a60",
   "metadata": {},
   "source": [
    "### ✅ Exemplo: Silhouette Score, Rand Index"
   ]
  },
  {
   "cell_type": "markdown",
   "id": "da3e72b5",
   "metadata": {},
   "source": [
    "#### 🎯 **Silhouette Score**\n",
    "\n",
    "- **O que é?**  \n",
    "  Uma métrica que mede **quão bem cada ponto está posicionado dentro do seu cluster**.\n",
    "\n",
    "- **Faixa:**  \n",
    "  Varia de **-1 a 1**:\n",
    "  - **1**: O ponto está bem posicionado no seu cluster e longe dos outros.\n",
    "  - **0**: O ponto está na fronteira entre dois clusters.\n",
    "  - **-1**: O ponto pode estar no cluster errado.\n",
    "\n",
    "- **Quando usar?**  \n",
    "  Quando **não temos os rótulos reais** das classes e queremos avaliar a qualidade da clusterização.\n",
    "\n",
    "#### 🎯 **Rand Index (Índice Rand)**\n",
    "\n",
    "- **O que é?**  \n",
    "  Mede a **similaridade entre dois agrupamentos** (por exemplo, os clusters encontrados e os rótulos verdadeiros).\n",
    "\n",
    "- **Versão ajustada:**  \n",
    "  Usa-se mais comummente o **Adjusted Rand Index (ARI)**, que corrige o valor esperado em caso de agrupamento aleatório.\n",
    "\n",
    "- **Faixa:**  \n",
    "  - **1**: Agrupamento perfeito (total concordância com os rótulos verdadeiros).\n",
    "  - **0**: Equivalente a um agrupamento aleatório.\n",
    "  - Pode ser negativo: pior que aleatório.\n",
    "\n",
    "- **Quando usar?**  \n",
    "  Quando **temos os rótulos verdadeiros** e queremos comparar com os clusters gerados."
   ]
  },
  {
   "cell_type": "code",
   "execution_count": 3,
   "id": "410b6f1c",
   "metadata": {},
   "outputs": [
    {
     "name": "stdout",
     "output_type": "stream",
     "text": [
      "Silhouette Score: 0.7915830011443039\n",
      "Adjusted Rand Index: 0.9910811504997546\n"
     ]
    }
   ],
   "source": [
    "from sklearn.datasets import make_blobs\n",
    "from sklearn.cluster import KMeans\n",
    "from sklearn.metrics import silhouette_score, adjusted_rand_score\n",
    "\n",
    "# Gerando dados sintéticos\n",
    "X, y_true = make_blobs(n_samples=300, centers=4, random_state=42)\n",
    "\n",
    "# Clusterização\n",
    "kmeans = KMeans(n_clusters=4, random_state=42)\n",
    "kmeans.fit(X)\n",
    "y_pred = kmeans.labels_\n",
    "\n",
    "# Avaliação\n",
    "print(\"Silhouette Score:\", silhouette_score(X, y_pred))  # Mede a qualidade dos clusters\n",
    "print(\"Adjusted Rand Index:\", adjusted_rand_score(y_true, y_pred))  # Compara com verdadeiros labels"
   ]
  },
  {
   "cell_type": "markdown",
   "id": "f1718b2e",
   "metadata": {},
   "source": [
    "> 💡 **Explicando:**\n",
    "> - **Silhouette Score**: mede quão bem cada ponto está dentro do seu cluster (de -1 a 1).\n",
    "> - **Rand Index (ajustado)**: compara agrupamentos com os rótulos reais (se disponíveis)."
   ]
  },
  {
   "cell_type": "markdown",
   "id": "3a4d109a",
   "metadata": {},
   "source": [
    "## 📊 Resumo – Quando usar qual métrica?\n",
    "\n",
    "| Tipo de Problema | Métrica             | Quando usar? |\n",
    "|------------------|---------------------|--------------|\n",
    "| Classificação    | Acurácia            | Casos gerais, dados balanceados |\n",
    "|                  | F1 Score            | Dados desbalanceados |\n",
    "|                  | ROC AUC             | Comparar modelos probabilísticos |\n",
    "| Regressão        | MAE                 | Erro médio simples de entender |\n",
    "|                  | RMSE                | Penaliza erros grandes |\n",
    "|                  | R²                  | Explicação da variância |\n",
    "| Clusterização    | Silhouette Score    | Sem rótulos verdadeiros |\n",
    "|                  | Rand Index          | Com rótulos verdadeiros |"
   ]
  },
  {
   "cell_type": "markdown",
   "id": "5e67ec2b",
   "metadata": {},
   "source": []
  }
 ],
 "metadata": {
  "kernelspec": {
   "display_name": "mlEnv Drive R v2",
   "language": "python",
   "name": "mlenv_hdexterno_r_v2"
  },
  "language_info": {
   "codemirror_mode": {
    "name": "ipython",
    "version": 3
   },
   "file_extension": ".py",
   "mimetype": "text/x-python",
   "name": "python",
   "nbconvert_exporter": "python",
   "pygments_lexer": "ipython3",
   "version": "3.13.2"
  }
 },
 "nbformat": 4,
 "nbformat_minor": 5
}
