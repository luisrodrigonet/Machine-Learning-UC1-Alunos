{
 "cells": [
  {
   "cell_type": "markdown",
   "id": "c99ff984",
   "metadata": {},
   "source": [
    "## 📊 Técnicas de Validação de Modelos"
   ]
  },
  {
   "cell_type": "markdown",
   "id": "708a3364",
   "metadata": {},
   "source": [
    "As **técnicas de validação de modelos** são métodos usados para **avaliar o desempenho de um modelo de machine learning** em dados **não vistos**, ou seja, dados que não foram usados durante o treinamento. O objetivo é **estimar como o modelo se comportará no mundo real**, com dados novos."
   ]
  },
  {
   "cell_type": "markdown",
   "id": "da3ae861",
   "metadata": {},
   "source": [
    "### 🧠 Por que validar um modelo?"
   ]
  },
  {
   "cell_type": "markdown",
   "id": "10b2ec5f",
   "metadata": {},
   "source": [
    "Quando criamos um modelo de machine learning, queremos ter certeza de que ele:\n",
    "\n",
    "- **Aprendeu bem os padrões dos dados de treino** (sem memorizar),\n",
    "- **Generaliza bem para dados novos** (não caiu em overfitting),\n",
    "- **Tem bom desempenho em situações reais**.\n",
    "\n",
    "A validação nos ajuda a responder perguntas como:\n",
    "> \"Esse modelo vai performar bem quando eu colocá-lo em produção?\""
   ]
  },
  {
   "cell_type": "markdown",
   "id": "ef738418",
   "metadata": {},
   "source": [
    "### 🧪 Exemplo Geral"
   ]
  },
  {
   "cell_type": "markdown",
   "id": "62c4c231",
   "metadata": {},
   "source": [
    "Vamos usar o famoso conjunto de dados **Iris**, que é perfeito para demonstrações rápidas:"
   ]
  },
  {
   "cell_type": "code",
   "execution_count": 1,
   "id": "ece7e68e",
   "metadata": {},
   "outputs": [],
   "source": [
    "from sklearn.datasets import load_iris\n",
    "from sklearn.model_selection import train_test_split\n",
    "from sklearn.ensemble import RandomForestClassifier\n",
    "from sklearn.metrics import accuracy_score\n",
    "\n",
    "# Carregando os dados\n",
    "iris = load_iris()\n",
    "X, y = iris.data, iris.target"
   ]
  },
  {
   "cell_type": "markdown",
   "id": "9e554027",
   "metadata": {},
   "source": [
    "Usaremos um modelo simples de classificação: **Random Forest**."
   ]
  },
  {
   "cell_type": "code",
   "execution_count": 2,
   "id": "360cc3fc",
   "metadata": {},
   "outputs": [],
   "source": [
    "model = RandomForestClassifier(random_state=42)"
   ]
  },
  {
   "cell_type": "markdown",
   "id": "3ef66ce6",
   "metadata": {},
   "source": [
    "### 🔍 Principais Técnicas de Validação\n",
    "\n",
    "Vamos conhecer as técnicas mais comuns, explicadas de forma simples:"
   ]
  },
  {
   "cell_type": "markdown",
   "id": "934c2ebc",
   "metadata": {},
   "source": [
    "#### 1. Holdout (Divisão treino/teste/validação)"
   ]
  },
  {
   "cell_type": "markdown",
   "id": "9586fe05",
   "metadata": {},
   "source": [
    "- É a técnica mais simples.\n",
    "- Divide os dados em duas partes:\n",
    "  - **Treino** (ex: 70% dos dados) – usado para treinar o modelo,\n",
    "  - **Teste** (ex: 30%) – usado para avaliar o modelo.\n",
    "\n",
    "✅ **Vantagem**: rápida e fácil  \n",
    "❌ **Desvantagem**: pode ser imprecisa se a divisão for ruim (ex: dados desbalanceados)"
   ]
  },
  {
   "cell_type": "markdown",
   "id": "e2a1d94a",
   "metadata": {},
   "source": [
    "- Exemplo: \n",
    "\n",
    "    ```python\n",
    "    from sklearn.model_selection import train_test_split\n",
    "\n",
    "    X_train, X_test, y_train, y_test = train_test_split(X, y, test_size=0.2)\n",
    "    X_train, X_val, y_train, y_val = train_test_split(X_train, y_train, test_size=0.25)\n",
    "    ```"
   ]
  },
  {
   "cell_type": "code",
   "execution_count": 3,
   "id": "4766d861",
   "metadata": {},
   "outputs": [
    {
     "name": "stdout",
     "output_type": "stream",
     "text": [
      "Acurácia (Holdout): 1.0\n"
     ]
    }
   ],
   "source": [
    "# Divisão treino-teste (70% treino, 30% teste)\n",
    "X_train, X_test, y_train, y_test = train_test_split(X, y, test_size=0.3, random_state=42)\n",
    "\n",
    "# Treinando o modelo\n",
    "model.fit(X_train, y_train)\n",
    "\n",
    "# Fazendo previsões\n",
    "y_pred = model.predict(X_test)\n",
    "\n",
    "# Avaliando\n",
    "print(\"Acurácia (Holdout):\", accuracy_score(y_test, y_pred))"
   ]
  },
  {
   "cell_type": "markdown",
   "id": "7d8c4cb3",
   "metadata": {},
   "source": [
    "### 2. Validação Cruzada (k-fold)"
   ]
  },
  {
   "cell_type": "markdown",
   "id": "1a82e550",
   "metadata": {},
   "source": [
    "- Divide os dados em **K partes (folds)** (por exemplo, K=5).\n",
    "- O modelo é treinado e testado **K vezes**, sempre usando uma parte diferente para teste e as demais para treino.\n",
    "- No final, calcula-se a média das métricas obtidas.\n",
    "- Mais confiável que o Holdout. Divide os dados em partes iguais.\n",
    "\n",
    "✅ **Vantagem**: uso mais eficiente dos dados, resultado mais confiável  \n",
    "❌ **Desvantagem**: mais lento que o Holdout\n",
    "\n",
    "Exemplo comum: **K-Fold Cross Validation**"
   ]
  },
  {
   "cell_type": "markdown",
   "id": "dc9e9b1b",
   "metadata": {},
   "source": [
    "- Exemplo:\n",
    "    ```python \n",
    "    from sklearn.model_selection import cross_val_score\n",
    "    from sklearn.ensemble import RandomForestClassifier\n",
    "\n",
    "    scores = cross_val_score(RandomForestClassifier(), X, y, cv=5)\n",
    "    print(\"Acurácia média:\", scores.mean())\n",
    "    ```"
   ]
  },
  {
   "cell_type": "code",
   "execution_count": 4,
   "id": "3fabe7a3",
   "metadata": {},
   "outputs": [
    {
     "name": "stdout",
     "output_type": "stream",
     "text": [
      "Acurácias em cada fold: [0.96666667 0.96666667 0.93333333 0.96666667 1.        ]\n",
      "Média da acurácia: 0.9666666666666668\n"
     ]
    }
   ],
   "source": [
    "from sklearn.model_selection import cross_val_score\n",
    "\n",
    "# Validação cruzada com 5 folds\n",
    "scores = cross_val_score(model, X, y, cv=5)\n",
    "\n",
    "print(\"Acurácias em cada fold:\", scores)\n",
    "print(\"Média da acurácia:\", scores.mean())"
   ]
  },
  {
   "cell_type": "markdown",
   "id": "7956b4e8",
   "metadata": {},
   "source": [
    "### 3. Leave-One-Out"
   ]
  },
  {
   "cell_type": "markdown",
   "id": "c95f86ca",
   "metadata": {},
   "source": [
    "\n",
    "- Uma variação extrema da validação cruzada.\n",
    "- Cada amostra do conjunto de dados é usada **uma vez como dado de teste**, enquanto o restante é usado para treino.\n",
    "- Muito custoso, mas útil em conjuntos pequenos.\n",
    "- Muito precisa, mas custoso computacionalmente.\n",
    "\n",
    "✅ Muito precisa (com grandes conjuntos de dados)  \n",
    "❌ Muito custosa computacionalmente\n"
   ]
  },
  {
   "cell_type": "markdown",
   "id": "f7a4d500",
   "metadata": {},
   "source": [
    "- Exemplo:\n",
    "    ```python\n",
    "    from sklearn.model_selection import LeaveOneOut\n",
    "\n",
    "    loo = LeaveOneOut()\n",
    "    scores = cross_val_score(model, X, y, cv=loo)\n",
    "    ```"
   ]
  },
  {
   "cell_type": "code",
   "execution_count": 6,
   "id": "a4f7813b",
   "metadata": {},
   "outputs": [
    {
     "name": "stdout",
     "output_type": "stream",
     "text": [
      "Média da acurácia (LOO): 0.9533333333333334\n"
     ]
    }
   ],
   "source": [
    "from sklearn.model_selection import LeaveOneOut\n",
    "\n",
    "loo = LeaveOneOut()\n",
    "scores = []\n",
    "\n",
    "for train_index, test_index in loo.split(X):\n",
    "    X_train, X_test = X[train_index], X[test_index]\n",
    "    y_train, y_test = y[train_index], y[test_index]\n",
    "    model.fit(X_train, y_train)\n",
    "    scores.append(model.score(X_test, y_test))\n",
    "\n",
    "print(\"Média da acurácia (LOO):\", np.mean(scores))"
   ]
  },
  {
   "cell_type": "markdown",
   "id": "436bacf0",
   "metadata": {},
   "source": [
    "\n",
    "### 4. Validação Estratificada - Stratified K-Fold (para dados desbalanceados)"
   ]
  },
  {
   "cell_type": "markdown",
   "id": "470f40f8",
   "metadata": {},
   "source": [
    "- Similar ao K-Fold, mas mantém a **distribuição das classes** em cada fold.\n",
    "- Útil em problemas de classificação com dados **desbalanceados**.\n",
    "- Garante distribuição proporcional das classes nos folds.\n",
    "- Mantém a proporção das classes em cada fold. Ideal para classificação desbalanceada."
   ]
  },
  {
   "cell_type": "markdown",
   "id": "00d1ed53",
   "metadata": {},
   "source": [
    "- Exemplo:\n",
    "    ```python\n",
    "    from sklearn.model_selection import StratifiedKFold\n",
    "\n",
    "    skf = StratifiedKFold(n_splits=5)\n",
    "    ```"
   ]
  },
  {
   "cell_type": "code",
   "execution_count": 5,
   "id": "88cc3c7a",
   "metadata": {},
   "outputs": [
    {
     "name": "stdout",
     "output_type": "stream",
     "text": [
      "Acurácia (Stratified K-Fold): 0.9\n",
      "Acurácia (Stratified K-Fold): 0.9\n",
      "Acurácia (Stratified K-Fold): 0.95\n",
      "Acurácia (Stratified K-Fold): 0.7\n",
      "Acurácia (Stratified K-Fold): 0.85\n"
     ]
    }
   ],
   "source": [
    "from sklearn.model_selection import StratifiedKFold\n",
    "\n",
    "# Dados artificiais desbalanceados para exemplo\n",
    "import numpy as np\n",
    "y_desbalanceado = np.array([0]*90 + [1]*10)  # 90 zeros e 10 uns\n",
    "X_desbalanceado = X[:100]\n",
    "\n",
    "# Stratified K-Fold\n",
    "skf = StratifiedKFold(n_splits=5)\n",
    "for train_index, test_index in skf.split(X_desbalanceado, y_desbalanceado):\n",
    "    X_train, X_test = X_desbalanceado[train_index], X_desbalanceado[test_index]\n",
    "    y_train, y_test = y_desbalanceado[train_index], y_desbalanceado[test_index]\n",
    "    model.fit(X_train, y_train)\n",
    "    print(\"Acurácia (Stratified K-Fold):\", model.score(X_test, y_test))"
   ]
  },
  {
   "cell_type": "markdown",
   "id": "4d905e18",
   "metadata": {},
   "source": [
    "### 5. Validação Temporal (Séries Temporais)"
   ]
  },
  {
   "cell_type": "markdown",
   "id": "c453daf0",
   "metadata": {},
   "source": [
    "- Específica para **séries temporais**.\n",
    "- Garante que os dados de teste sempre sejam **posteriores aos de treino** (evita vazamento temporal).\n",
    "- Importante para não embaralhar dados dependentes do tempo."
   ]
  },
  {
   "cell_type": "markdown",
   "id": "96336bdb",
   "metadata": {},
   "source": [
    "- Exemplo:\n",
    "    ```python\n",
    "\n",
    "    from sklearn.model_selection import TimeSeriesSplit\n",
    "    \n",
    "    tscv = TimeSeriesSplit(n_splits=5)\n",
    "    \n",
    "```"
   ]
  },
  {
   "cell_type": "code",
   "execution_count": 8,
   "id": "356a1229",
   "metadata": {},
   "outputs": [
    {
     "name": "stdout",
     "output_type": "stream",
     "text": [
      "R² Score (TimeSeriesSplit): -0.0022504496585205036\n",
      "R² Score (TimeSeriesSplit): -1.9519367995995807\n",
      "R² Score (TimeSeriesSplit): -2.1442985758350996\n",
      "R² Score (TimeSeriesSplit): -3.389018509057993\n",
      "R² Score (TimeSeriesSplit): -2.6420987245118335\n"
     ]
    }
   ],
   "source": [
    "import numpy as np\n",
    "from sklearn.model_selection import TimeSeriesSplit\n",
    "from sklearn.ensemble import RandomForestRegressor\n",
    "from sklearn.metrics import r2_score\n",
    "\n",
    "# Dados simulados como série temporal\n",
    "X_ts = np.sort(np.random.rand(100, 1), axis=0)\n",
    "y_ts = np.sin(X_ts).ravel() + np.random.normal(0, 0.1, 100)\n",
    "\n",
    "# Modelo de regressão\n",
    "model = RandomForestRegressor(random_state=42)\n",
    "\n",
    "# Validação para séries temporais\n",
    "tscv = TimeSeriesSplit(n_splits=5)\n",
    "\n",
    "for train_index, test_index in tscv.split(X_ts):\n",
    "    X_train, X_test = X_ts[train_index], X_ts[test_index]\n",
    "    y_train, y_test = y_ts[train_index], y_ts[test_index]\n",
    "    \n",
    "    model.fit(X_train, y_train)\n",
    "    y_pred = model.predict(X_test)\n",
    "    \n",
    "    print(\"R² Score (TimeSeriesSplit):\", r2_score(y_test, y_pred))"
   ]
  },
  {
   "cell_type": "markdown",
   "id": "beefbbc8",
   "metadata": {},
   "source": [
    "### 📊 Métricas Comuns Usadas na Validação\n",
    "\n",
    "Dependendo do tipo de problema, usamos diferentes métricas para avaliar o modelo:\n",
    "\n",
    "| Tipo de Problema | Métricas Comuns |\n",
    "|------------------|-----------------|\n",
    "| Classificação    | Acurácia, F1 Score, Precision, Recall, ROC-AUC |\n",
    "| Regressão        | MAE, MSE, RMSE, R² |\n",
    "| Clusterização    | Silhouette Score, Rand Index |"
   ]
  },
  {
   "cell_type": "markdown",
   "id": "4eb4b3db",
   "metadata": {},
   "source": []
  },
  {
   "cell_type": "markdown",
   "id": "83d75210",
   "metadata": {},
   "source": [
    "### 💡 Dica: Não use apenas acurácia!\n",
    "\n",
    "- Muitas vezes, a **acurácia** pode enganar (principalmente em dados desbalanceados). \n",
    "- Use outras métricas como **F1-score** ou **ROC-AUC** para ter uma visão mais completa do desempenho do seu modelo."
   ]
  },
  {
   "cell_type": "markdown",
   "id": "e51d440a",
   "metadata": {},
   "source": [
    "### ✅ Resumo Final\n",
    "\n",
    "| Técnica                | Quando usar?                             |\n",
    "|------------------------|------------------------------------------|\n",
    "| Holdout                | Quando tem muitos dados e pouco tempo    |\n",
    "| K-Fold Cross Validation| Para estimativa mais robusta do desempenho |\n",
    "| Stratified K-Fold      | Em classificações com classes desbalanceadas |\n",
    "| Leave-One-Out          | Com poucos dados e alta necessidade de precisão |\n",
    "| Time Series Split      | Em séries temporais                      |"
   ]
  }
 ],
 "metadata": {
  "kernelspec": {
   "display_name": "mlEnv Drive R v2",
   "language": "python",
   "name": "mlenv_hdexterno_r_v2"
  },
  "language_info": {
   "codemirror_mode": {
    "name": "ipython",
    "version": 3
   },
   "file_extension": ".py",
   "mimetype": "text/x-python",
   "name": "python",
   "nbconvert_exporter": "python",
   "pygments_lexer": "ipython3",
   "version": "3.13.2"
  }
 },
 "nbformat": 4,
 "nbformat_minor": 5
}
